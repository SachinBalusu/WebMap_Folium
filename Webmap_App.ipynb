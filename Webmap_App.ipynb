{
 "cells": [
  {
   "cell_type": "code",
   "execution_count": 4,
   "metadata": {},
   "outputs": [],
   "source": [
    "import folium\n",
    "import pandas\n",
    "df=pandas.read_csv(\"Volcanoes.csv\")\n",
    "lat=list(df.LAT)\n",
    "long=list(df.LON)\n",
    "elev=list(df.ELEV)\n",
    "name=list(df.NAME)\n",
    "html=\"\"\"\n",
    "Volcano name:<br>\n",
    "<a href=\"https://www.google.com/search?q=%%22%s%%22\" target=\"_blank\">%s</a><br>\"\n",
    "Height:%s m\n",
    "\"\"\"\n",
    "def color(elevation):\n",
    "    if elevation <1000:\n",
    "        return 'green'\n",
    "    elif elevation >=1000 and elevation <=3000:\n",
    "        return 'orange'\n",
    "    else:\n",
    "        return 'red'\n",
    "map=folium.Map(location=[38.58,-99.09],zoom_start=6,tiles=\"Mapbox Bright\")\n",
    "\n",
    "fgv=folium.FeatureGroup(name=\"Volcanoes\")\n",
    "\n",
    "fg=folium.FeatureGroup(name=\"My Map\")\n",
    "for lt,ln,el,name in zip(lat,long,elev,name):\n",
    "    iframe=folium.IFrame(html=html %(name,name,el),width=200,height=100)\n",
    "    fgv.add_child(folium.CircleMarker(location=[lt,ln],popup=folium.Popup(iframe),radius=6,fill_color=color(el),fill_opacity=0.9,color='grey'))\n",
    "\n",
    "fgp=folium.FeatureGroup(name=\"Population\")\n",
    "\n",
    "fgp.add_child(folium.GeoJson(data=open('world.json','r',encoding='utf-8-sig').read(),\n",
    "style_function=lambda x: {'fillColor':'green' if x['properties']['POP2005']<2000000 \n",
    "else 'yellow' if 2000000 <= x['properties']['POP2005']<10000000 \n",
    "else 'orange' if 10000000 <= x['properties']['POP2005']<20000000 else 'red'}))\n",
    "map.add_child(fgv)\n",
    "map.add_child(fgp)\n",
    "map.add_child(folium.LayerControl())\n",
    "map.save(\"Map_Volcanoes.html\")\n",
    "\n",
    "\n",
    "\n",
    "\n"
   ]
  },
  {
   "cell_type": "code",
   "execution_count": null,
   "metadata": {},
   "outputs": [],
   "source": []
  },
  {
   "cell_type": "code",
   "execution_count": null,
   "metadata": {},
   "outputs": [],
   "source": []
  }
 ],
 "metadata": {
  "kernelspec": {
   "display_name": "Python 3",
   "language": "python",
   "name": "python3"
  },
  "language_info": {
   "codemirror_mode": {
    "name": "ipython",
    "version": 3
   },
   "file_extension": ".py",
   "mimetype": "text/x-python",
   "name": "python",
   "nbconvert_exporter": "python",
   "pygments_lexer": "ipython3",
   "version": "3.7.1"
  }
 },
 "nbformat": 4,
 "nbformat_minor": 2
}
